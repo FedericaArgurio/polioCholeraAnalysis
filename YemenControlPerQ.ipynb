{
 "cells": [
  {
   "cell_type": "code",
   "execution_count": 1,
   "metadata": {},
   "outputs": [],
   "source": [
    "import numpy as np\n",
    "import pandas as pd\n",
    "import statsmodels.api as sm\n",
    "import sklearn.linear_model as linear_model\n",
    "import matplotlib.pyplot as pl\n",
    "import os"
   ]
  },
  {
   "cell_type": "code",
   "execution_count": 2,
   "metadata": {},
   "outputs": [
    {
     "data": {
      "text/html": [
       "<div>\n",
       "<style scoped>\n",
       "    .dataframe tbody tr th:only-of-type {\n",
       "        vertical-align: middle;\n",
       "    }\n",
       "\n",
       "    .dataframe tbody tr th {\n",
       "        vertical-align: top;\n",
       "    }\n",
       "\n",
       "    .dataframe thead th {\n",
       "        text-align: right;\n",
       "    }\n",
       "</style>\n",
       "<table border=\"1\" class=\"dataframe\">\n",
       "  <thead>\n",
       "    <tr style=\"text-align: right;\">\n",
       "      <th></th>\n",
       "      <th></th>\n",
       "      <th>AQAP</th>\n",
       "      <th>Houthi and Saleh Loyalists</th>\n",
       "      <th>Mixed control</th>\n",
       "      <th>Pro-Hadi Alliance</th>\n",
       "      <th>cases</th>\n",
       "    </tr>\n",
       "    <tr>\n",
       "      <th>Governorates</th>\n",
       "      <th>Q</th>\n",
       "      <th></th>\n",
       "      <th></th>\n",
       "      <th></th>\n",
       "      <th></th>\n",
       "      <th></th>\n",
       "    </tr>\n",
       "  </thead>\n",
       "  <tbody>\n",
       "    <tr>\n",
       "      <th rowspan=\"4\" valign=\"top\">Abyan</th>\n",
       "      <th>2017q2</th>\n",
       "      <td>7.784518</td>\n",
       "      <td>0.010347</td>\n",
       "      <td>0.000000</td>\n",
       "      <td>98.932967</td>\n",
       "      <td>3955</td>\n",
       "    </tr>\n",
       "    <tr>\n",
       "      <th>2017q3</th>\n",
       "      <td>7.699846</td>\n",
       "      <td>0.363182</td>\n",
       "      <td>0.000000</td>\n",
       "      <td>98.201160</td>\n",
       "      <td>22127</td>\n",
       "    </tr>\n",
       "    <tr>\n",
       "      <th>2017q4</th>\n",
       "      <td>7.405725</td>\n",
       "      <td>0.000000</td>\n",
       "      <td>0.000000</td>\n",
       "      <td>98.675772</td>\n",
       "      <td>2159</td>\n",
       "    </tr>\n",
       "    <tr>\n",
       "      <th>2018q1</th>\n",
       "      <td>7.314432</td>\n",
       "      <td>0.571566</td>\n",
       "      <td>34.627333</td>\n",
       "      <td>55.450655</td>\n",
       "      <td>2</td>\n",
       "    </tr>\n",
       "    <tr>\n",
       "      <th>Ad Dali'</th>\n",
       "      <th>2017q2</th>\n",
       "      <td>0.000000</td>\n",
       "      <td>31.593066</td>\n",
       "      <td>0.000000</td>\n",
       "      <td>68.406934</td>\n",
       "      <td>9171</td>\n",
       "    </tr>\n",
       "    <tr>\n",
       "      <th>...</th>\n",
       "      <th>...</th>\n",
       "      <td>...</td>\n",
       "      <td>...</td>\n",
       "      <td>...</td>\n",
       "      <td>...</td>\n",
       "      <td>...</td>\n",
       "    </tr>\n",
       "    <tr>\n",
       "      <th>Shabwah</th>\n",
       "      <th>2018q1</th>\n",
       "      <td>5.145331</td>\n",
       "      <td>0.058120</td>\n",
       "      <td>21.435197</td>\n",
       "      <td>73.415264</td>\n",
       "      <td>0</td>\n",
       "    </tr>\n",
       "    <tr>\n",
       "      <th rowspan=\"4\" valign=\"top\">Ta'iz</th>\n",
       "      <th>2017q2</th>\n",
       "      <td>0.000000</td>\n",
       "      <td>74.147906</td>\n",
       "      <td>0.000000</td>\n",
       "      <td>25.045669</td>\n",
       "      <td>15995</td>\n",
       "    </tr>\n",
       "    <tr>\n",
       "      <th>2017q3</th>\n",
       "      <td>0.000000</td>\n",
       "      <td>76.283779</td>\n",
       "      <td>0.000000</td>\n",
       "      <td>23.149974</td>\n",
       "      <td>28500</td>\n",
       "    </tr>\n",
       "    <tr>\n",
       "      <th>2017q4</th>\n",
       "      <td>0.000000</td>\n",
       "      <td>0.000000</td>\n",
       "      <td>0.000000</td>\n",
       "      <td>39.463027</td>\n",
       "      <td>17136</td>\n",
       "    </tr>\n",
       "    <tr>\n",
       "      <th>2018q1</th>\n",
       "      <td>0.000000</td>\n",
       "      <td>53.176490</td>\n",
       "      <td>0.000000</td>\n",
       "      <td>46.356101</td>\n",
       "      <td>4092</td>\n",
       "    </tr>\n",
       "  </tbody>\n",
       "</table>\n",
       "<p>84 rows × 5 columns</p>\n",
       "</div>"
      ],
      "text/plain": [
       "                         AQAP  Houthi and Saleh Loyalists  Mixed control  \\\n",
       "Governorates Q                                                             \n",
       "Abyan        2017q2  7.784518                    0.010347       0.000000   \n",
       "             2017q3  7.699846                    0.363182       0.000000   \n",
       "             2017q4  7.405725                    0.000000       0.000000   \n",
       "             2018q1  7.314432                    0.571566      34.627333   \n",
       "Ad Dali'     2017q2  0.000000                   31.593066       0.000000   \n",
       "...                       ...                         ...            ...   \n",
       "Shabwah      2018q1  5.145331                    0.058120      21.435197   \n",
       "Ta'iz        2017q2  0.000000                   74.147906       0.000000   \n",
       "             2017q3  0.000000                   76.283779       0.000000   \n",
       "             2017q4  0.000000                    0.000000       0.000000   \n",
       "             2018q1  0.000000                   53.176490       0.000000   \n",
       "\n",
       "                     Pro-Hadi Alliance  cases  \n",
       "Governorates Q                                 \n",
       "Abyan        2017q2          98.932967   3955  \n",
       "             2017q3          98.201160  22127  \n",
       "             2017q4          98.675772   2159  \n",
       "             2018q1          55.450655      2  \n",
       "Ad Dali'     2017q2          68.406934   9171  \n",
       "...                                ...    ...  \n",
       "Shabwah      2018q1          73.415264      0  \n",
       "Ta'iz        2017q2          25.045669  15995  \n",
       "             2017q3          23.149974  28500  \n",
       "             2017q4          39.463027  17136  \n",
       "             2018q1          46.356101   4092  \n",
       "\n",
       "[84 rows x 5 columns]"
      ]
     },
     "execution_count": 2,
     "metadata": {},
     "output_type": "execute_result"
    }
   ],
   "source": [
    "#create new table of cases be governorate per quarter\n",
    "yqs = pd.read_excel(\"Yemen_quarters_table.xlsx\", index_col=[0,1])\n",
    "yqs"
   ]
  },
  {
   "cell_type": "code",
   "execution_count": null,
   "metadata": {},
   "outputs": [],
   "source": []
  },
  {
   "cell_type": "markdown",
   "metadata": {},
   "source": [
    "# Perform regression on Yemen control table "
   ]
  },
  {
   "cell_type": "code",
   "execution_count": 3,
   "metadata": {},
   "outputs": [],
   "source": [
    "x_yemen = yqs.columns[0:-1]\n",
    "\n",
    "y_yemen = yqs.columns[-1]"
   ]
  },
  {
   "cell_type": "markdown",
   "metadata": {},
   "source": [
    "## OLS regression"
   ]
  },
  {
   "cell_type": "code",
   "execution_count": 4,
   "metadata": {},
   "outputs": [
    {
     "name": "stdout",
     "output_type": "stream",
     "text": [
      "                            OLS Regression Results                            \n",
      "==============================================================================\n",
      "Dep. Variable:                  cases   R-squared:                       0.259\n",
      "Model:                            OLS   Adj. R-squared:                  0.222\n",
      "Method:                 Least Squares   F-statistic:                     6.915\n",
      "Date:                Tue, 17 Nov 2020   Prob (F-statistic):           7.97e-05\n",
      "Time:                        16:36:39   Log-Likelihood:                -911.42\n",
      "No. Observations:                  84   AIC:                             1833.\n",
      "Df Residuals:                      79   BIC:                             1845.\n",
      "Df Model:                           4                                         \n",
      "Covariance Type:            nonrobust                                         \n",
      "==============================================================================================\n",
      "                                 coef    std err          t      P>|t|      [0.025      0.975]\n",
      "----------------------------------------------------------------------------------------------\n",
      "const                           2e+04   3824.594      5.229      0.000    1.24e+04    2.76e+04\n",
      "AQAP                        -217.1689    153.667     -1.413      0.162    -523.036      88.698\n",
      "Houthi and Saleh Loyalists   -14.2821     44.439     -0.321      0.749    -102.736      74.172\n",
      "Mixed control               -294.4573    188.823     -1.559      0.123    -670.299      81.385\n",
      "Pro-Hadi Alliance           -166.5770     49.179     -3.387      0.001    -264.465     -68.689\n",
      "==============================================================================\n",
      "Omnibus:                       35.705   Durbin-Watson:                   1.331\n",
      "Prob(Omnibus):                  0.000   Jarque-Bera (JB):               74.679\n",
      "Skew:                           1.576   Prob(JB):                     6.08e-17\n",
      "Kurtosis:                       6.376   Cond. No.                         174.\n",
      "==============================================================================\n",
      "\n",
      "Notes:\n",
      "[1] Standard Errors assume that the covariance matrix of the errors is correctly specified.\n"
     ]
    }
   ],
   "source": [
    "X = yqs[x_yemen]\n",
    "X = sm.add_constant(X)\n",
    "y = yqs[y_yemen]\n",
    "model = sm.OLS(y, X)\n",
    "result = model.fit()\n",
    "print(result.summary())"
   ]
  },
  {
   "cell_type": "markdown",
   "metadata": {},
   "source": [
    "## Yemen regression using GLM with Poisson function"
   ]
  },
  {
   "cell_type": "code",
   "execution_count": 5,
   "metadata": {},
   "outputs": [
    {
     "name": "stdout",
     "output_type": "stream",
     "text": [
      "                 Generalized Linear Model Regression Results                  \n",
      "==============================================================================\n",
      "Dep. Variable:                  cases   No. Observations:                   84\n",
      "Model:                            GLM   Df Residuals:                       79\n",
      "Model Family:                 Poisson   Df Model:                            4\n",
      "Link Function:                    log   Scale:                          1.0000\n",
      "Method:                          IRLS   Log-Likelihood:            -3.9224e+05\n",
      "Date:                Tue, 17 Nov 2020   Deviance:                   7.8370e+05\n",
      "Time:                        16:36:40   Pearson chi2:                 8.97e+05\n",
      "No. Iterations:                     8                                         \n",
      "Covariance Type:            nonrobust                                         \n",
      "==============================================================================================\n",
      "                                 coef    std err          z      P>|z|      [0.025      0.975]\n",
      "----------------------------------------------------------------------------------------------\n",
      "const                          9.9258      0.002   4658.577      0.000       9.922       9.930\n",
      "AQAP                          -0.0621      0.000   -135.114      0.000      -0.063      -0.061\n",
      "Houthi and Saleh Loyalists    -0.0005    2.5e-05    -20.346      0.000      -0.001      -0.000\n",
      "Mixed control                 -0.1291      0.001   -153.742      0.000      -0.131      -0.127\n",
      "Pro-Hadi Alliance             -0.0151   3.93e-05   -384.958      0.000      -0.015      -0.015\n",
      "==============================================================================================\n"
     ]
    }
   ],
   "source": [
    "X = yqs[x_yemen]\n",
    "X = sm.add_constant(X)\n",
    "y = yqs[y_yemen]\n",
    "model = sm.GLM(y, X, family=sm.families.Poisson())\n",
    "result = model.fit()\n",
    "print(result.summary())"
   ]
  },
  {
   "cell_type": "markdown",
   "metadata": {},
   "source": [
    "## Negative Binomial"
   ]
  },
  {
   "cell_type": "code",
   "execution_count": 6,
   "metadata": {},
   "outputs": [
    {
     "name": "stdout",
     "output_type": "stream",
     "text": [
      "                 Generalized Linear Model Regression Results                  \n",
      "==============================================================================\n",
      "Dep. Variable:                  cases   No. Observations:                   84\n",
      "Model:                            GLM   Df Residuals:                       79\n",
      "Model Family:        NegativeBinomial   Df Model:                            4\n",
      "Link Function:                    log   Scale:                          1.0000\n",
      "Method:                          IRLS   Log-Likelihood:                -818.27\n",
      "Date:                Tue, 17 Nov 2020   Deviance:                       189.14\n",
      "Time:                        16:36:41   Pearson chi2:                     196.\n",
      "No. Iterations:                    27                                         \n",
      "Covariance Type:            nonrobust                                         \n",
      "==============================================================================================\n",
      "                                 coef    std err          z      P>|z|      [0.025      0.975]\n",
      "----------------------------------------------------------------------------------------------\n",
      "const                          9.8114      0.297     32.984      0.000       9.228      10.394\n",
      "AQAP                          -0.1844      0.015    -12.042      0.000      -0.214      -0.154\n",
      "Houthi and Saleh Loyalists     0.0013      0.003      0.375      0.708      -0.005       0.008\n",
      "Mixed control                 -0.1551      0.019     -8.256      0.000      -0.192      -0.118\n",
      "Pro-Hadi Alliance             -0.0091      0.004     -2.372      0.018      -0.017      -0.002\n",
      "==============================================================================================\n"
     ]
    }
   ],
   "source": [
    "X = yqs[x_yemen]\n",
    "X = sm.add_constant(X)\n",
    "y = yqs[y_yemen]\n",
    "model = sm.GLM(y, X, family=sm.families.NegativeBinomial())\n",
    "result = model.fit()\n",
    "print(result.summary())"
   ]
  },
  {
   "cell_type": "code",
   "execution_count": null,
   "metadata": {},
   "outputs": [],
   "source": []
  }
 ],
 "metadata": {
  "kernelspec": {
   "display_name": "Python 3",
   "language": "python",
   "name": "python3"
  },
  "language_info": {
   "codemirror_mode": {
    "name": "ipython",
    "version": 3
   },
   "file_extension": ".py",
   "mimetype": "text/x-python",
   "name": "python",
   "nbconvert_exporter": "python",
   "pygments_lexer": "ipython3",
   "version": "3.8.5"
  }
 },
 "nbformat": 4,
 "nbformat_minor": 4
}
